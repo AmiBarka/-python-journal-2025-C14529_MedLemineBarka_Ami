{
 "cells": [
  {
   "cell_type": "code",
   "execution_count": 1,
   "id": "b433e127-0a30-4c3b-802d-9f7f34f04e50",
   "metadata": {},
   "outputs": [
    {
     "name": "stdout",
     "output_type": "stream",
     "text": [
      "Bonjour, je m'appelle ...\n"
     ]
    }
   ],
   "source": [
    "# Exercice 1 : Afficher votre nom\n",
    "print(\"Bonjour, je m'appelle ...\")"
   ]
  },
  {
   "cell_type": "code",
   "execution_count": 2,
   "id": "cbbddebb-fb2b-4fcc-9c00-54e9adaa1bb4",
   "metadata": {},
   "outputs": [
    {
     "name": "stdout",
     "output_type": "stream",
     "text": [
      "a + b = 7\n"
     ]
    }
   ],
   "source": [
    "# Exercice 2 : Effectuer quelques calculs\n",
    "a = 5\n",
    "b = 2\n",
    "print(\"a + b =\", a + b)\n"
   ]
  },
  {
   "cell_type": "code",
   "execution_count": 3,
   "id": "ef4f6f36-3118-44a4-8511-45db6d3ed453",
   "metadata": {},
   "outputs": [
    {
     "name": "stdout",
     "output_type": "stream",
     "text": [
      "2\n",
      "4\n",
      "6\n",
      "8\n"
     ]
    }
   ],
   "source": [
    "# Exercice 3 : Travailler avec une liste\n",
    "nombres = [1, 2, 3, 4]\n",
    "for n in nombres:\n",
    "    print(n * 2)"
   ]
  },
  {
   "cell_type": "code",
   "execution_count": null,
   "id": "e425562e-4150-417a-b815-c8f5436d713f",
   "metadata": {},
   "outputs": [],
   "source": []
  }
 ],
 "metadata": {
  "kernelspec": {
   "display_name": "Python 3 (ipykernel)",
   "language": "python",
   "name": "python3"
  },
  "language_info": {
   "codemirror_mode": {
    "name": "ipython",
    "version": 3
   },
   "file_extension": ".py",
   "mimetype": "text/x-python",
   "name": "python",
   "nbconvert_exporter": "python",
   "pygments_lexer": "ipython3",
   "version": "3.13.5"
  }
 },
 "nbformat": 4,
 "nbformat_minor": 5
}
