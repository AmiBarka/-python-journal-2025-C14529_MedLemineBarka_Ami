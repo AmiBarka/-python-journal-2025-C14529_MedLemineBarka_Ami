{
 "cells": [
  {
   "cell_type": "code",
   "execution_count": 1,
   "id": "ede78208-a6c0-472e-82ca-c44684906b36",
   "metadata": {},
   "outputs": [
    {
     "name": "stdout",
     "output_type": "stream",
     "text": [
      "4\n"
     ]
    }
   ],
   "source": [
    "matrice = [[1, 2], [3, 4]]\n",
    "print(matrice[1][1])  # 4\n"
   ]
  },
  {
   "cell_type": "code",
   "execution_count": 2,
   "id": "c4837969-2269-4568-b700-b95f50e4223c",
   "metadata": {},
   "outputs": [
    {
     "name": "stdout",
     "output_type": "stream",
     "text": [
      "2\n"
     ]
    }
   ],
   "source": [
    "matrice = [[1, 2], [3, 4]]\n",
    "print(matrice[0][1])  # 4\n"
   ]
  },
  {
   "cell_type": "code",
   "execution_count": 3,
   "id": "accf533d-2a2e-41de-a512-d88b0ba6229a",
   "metadata": {},
   "outputs": [
    {
     "name": "stdout",
     "output_type": "stream",
     "text": [
      "[1, 2, 3]\n"
     ]
    }
   ],
   "source": [
    "chaine = \"1,2,3\"\n",
    "liste = [int(x) for x in chaine.split(\",\")]\n",
    "print(liste)  \n"
   ]
  },
  {
   "cell_type": "code",
   "execution_count": 5,
   "id": "7c12b365-0c48-4841-a215-00e6d0eba195",
   "metadata": {},
   "outputs": [
    {
     "name": "stdout",
     "output_type": "stream",
     "text": [
      "['Bob', 'Charlie']\n"
     ]
    }
   ],
   "source": [
    "personnes = {'Alice': 17, 'Bob': 22, 'Charlie': 19}\n",
    "majeurs = [nom for nom, age in personnes.items() if age >= 18]\n",
    "print(majeurs)  \n"
   ]
  },
  {
   "cell_type": "code",
   "execution_count": null,
   "id": "e3cc0572-6dc4-490e-bae8-708ce8d86741",
   "metadata": {},
   "outputs": [],
   "source": []
  }
 ],
 "metadata": {
  "kernelspec": {
   "display_name": "Python 3 (ipykernel)",
   "language": "python",
   "name": "python3"
  },
  "language_info": {
   "codemirror_mode": {
    "name": "ipython",
    "version": 3
   },
   "file_extension": ".py",
   "mimetype": "text/x-python",
   "name": "python",
   "nbconvert_exporter": "python",
   "pygments_lexer": "ipython3",
   "version": "3.13.5"
  }
 },
 "nbformat": 4,
 "nbformat_minor": 5
}
