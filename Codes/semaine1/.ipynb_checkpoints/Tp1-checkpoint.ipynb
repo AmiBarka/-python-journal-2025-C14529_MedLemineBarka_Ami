{
 "cells": [
  {
   "cell_type": "code",
   "execution_count": 9,
   "id": "ea33f722-ba3f-4511-a808-94f0fd2f4e13",
   "metadata": {},
   "outputs": [
    {
     "name": "stdout",
     "output_type": "stream",
     "text": [
      "2 est une racine de la fonction.\n"
     ]
    }
   ],
   "source": [
    "def f(x):\n",
    "    return x**2 - 4\n",
    "\n",
    "x = 2\n",
    "if f(x) == 0:\n",
    "    print(f\"{x} est une racine de la fonction.\")\n",
    "else:\n",
    "    print(f\"{x} n'est pas une racine.\")\n"
   ]
  },
  {
   "cell_type": "code",
   "execution_count": 12,
   "id": "b885f4d2-813e-4af1-a355-06f8654cfd6e",
   "metadata": {},
   "outputs": [
    {
     "name": "stdout",
     "output_type": "stream",
     "text": [
      "[0, 1, 4, 9, 16, 25, 36, 49, 64, 81]\n"
     ]
    }
   ],
   "source": [
    "liste = list(range(10))\n",
    "carres = [x**2 for x in liste]\n",
    "print(carres)  "
   ]
  },
  {
   "cell_type": "code",
   "execution_count": 13,
   "id": "e4d08ea1-5617-4968-9ea1-1be9e5a473ed",
   "metadata": {},
   "outputs": [
    {
     "name": "stdout",
     "output_type": "stream",
     "text": [
      "{1: 1, 2: 8, 3: 27, 4: 64, 5: 125}\n"
     ]
    }
   ],
   "source": [
    "cubes = {x: x**3 for x in range(1, 6)}\n",
    "print(cubes)  \n"
   ]
  },
  {
   "cell_type": "code",
   "execution_count": 14,
   "id": "e4a26f9d-aa3d-4e39-a2d0-a089b7824690",
   "metadata": {},
   "outputs": [
    {
     "name": "stdout",
     "output_type": "stream",
     "text": [
      "b\n"
     ]
    }
   ],
   "source": [
    "lettres = ('a', 'b', 'c', 'd', 'e')\n",
    "print(lettres[1])  \n"
   ]
  },
  {
   "cell_type": "code",
   "execution_count": 15,
   "id": "4972124f-0ce7-4cd3-b382-bb2db19a881a",
   "metadata": {},
   "outputs": [
    {
     "name": "stdout",
     "output_type": "stream",
     "text": [
      "{1, 2, 3, 4, 5}\n"
     ]
    }
   ],
   "source": [
    "nombres = [1, 2, 2, 3, 4, 4, 5]\n",
    "unique = set(nombres)\n",
    "print(unique)\n"
   ]
  },
  {
   "cell_type": "code",
   "execution_count": null,
   "id": "21d39d89-ae5f-4f3f-8b59-072f3ed00ac9",
   "metadata": {},
   "outputs": [],
   "source": []
  }
 ],
 "metadata": {
  "kernelspec": {
   "display_name": "Python 3 (ipykernel)",
   "language": "python",
   "name": "python3"
  },
  "language_info": {
   "codemirror_mode": {
    "name": "ipython",
    "version": 3
   },
   "file_extension": ".py",
   "mimetype": "text/x-python",
   "name": "python",
   "nbconvert_exporter": "python",
   "pygments_lexer": "ipython3",
   "version": "3.13.5"
  }
 },
 "nbformat": 4,
 "nbformat_minor": 5
}
